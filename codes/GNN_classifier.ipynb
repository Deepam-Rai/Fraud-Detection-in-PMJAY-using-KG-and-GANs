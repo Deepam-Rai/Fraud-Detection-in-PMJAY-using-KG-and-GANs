{
 "cells": [
  {
   "cell_type": "code",
   "execution_count": 35,
   "id": "d880fc4b-5fa6-4ae9-a56f-a64daf99c365",
   "metadata": {},
   "outputs": [],
   "source": [
    "from PyNeFrauds.Globals import neo4jHandler\n",
    "from PyNeFrauds.nn import EmbedFetcher, PyGDataWrapper"
   ]
  },
  {
   "cell_type": "code",
   "execution_count": 52,
   "id": "59b1d760-9388-4096-84e4-d49a0cd2d584",
   "metadata": {},
   "outputs": [
    {
     "name": "stdout",
     "output_type": "stream",
     "text": [
      "\n",
      "Number of nodes: 3860\n",
      "Number of features: 7\n",
      "Has isolated nodes: False\n"
     ]
    }
   ],
   "source": [
    "# set neo4j credentials\n",
    "neo4jHandler.set_credentials(\"bolt://localhost:11003\", \"neo4j\",\"password\")\n",
    "\n",
    "# set the parameters for fetching\n",
    "embedFetcher = EmbedFetcher(embedProperty=\"GraphSage\", uniqueID='project_id', target=\"fraud\")\n",
    "\n",
    "# fetch the embeddings\n",
    "embedFetcher.fetchData()\n",
    "\n",
    "# create torch_geometric acceptable format\n",
    "dWrap = PyGDataWrapper()\n",
    "dWrap.from_embed_fetcher(embedFetcher)\n",
    "dWrap.set_train_mask(frac=0.2)\n",
    "\n",
    "dWrap.show_data_info()"
   ]
  },
  {
   "cell_type": "code",
   "execution_count": 53,
   "id": "f89a3918-d74a-446e-b9ca-6df8cfe6880f",
   "metadata": {},
   "outputs": [],
   "source": [
    "from collections import OrderedDict\n",
    "from PyNeFrauds.nn import NNModel, train, ConfusionMatrix\n",
    "import torch_geometric.nn as tgnn\n",
    "import torch.nn as tnn"
   ]
  },
  {
   "cell_type": "code",
   "execution_count": 54,
   "id": "ae4784cd-9287-4621-b34d-594f6d68d8d0",
   "metadata": {},
   "outputs": [
    {
     "name": "stdout",
     "output_type": "stream",
     "text": [
      "NNModel(\n",
      "  (layers): Sequential(\n",
      "    (GCN1): GCNConv(7, 30)\n",
      "    (drop0): Dropout(p=0.5, inplace=False)\n",
      "    (relu1): ReLU()\n",
      "    (GCN2): GCNConv(30, 40)\n",
      "    (linear): Linear(in_features=40, out_features=512, bias=True)\n",
      "    (relul1): ReLU()\n",
      "    (drop1): Dropout(p=0.2, inplace=False)\n",
      "    (linear2): Linear(in_features=512, out_features=2, bias=True)\n",
      "    (softmax): Softmax(dim=1)\n",
      "  )\n",
      ")\n"
     ]
    }
   ],
   "source": [
    "#building usual NN model\n",
    "modules = OrderedDict({\n",
    "    'GCN1' : tgnn.GCNConv(7, 30),\n",
    "    'drop0': tnn.Dropout(p=0.5),\n",
    "    'relu1': tnn.ReLU(),\n",
    "    'GCN2' : tgnn.GCNConv(30, 40),\n",
    "    'relu1': tnn.ReLU(),\n",
    "    'linear': tnn.Linear(40,512),\n",
    "    'relul1': tnn.ReLU(),\n",
    "    'drop1': tnn.Dropout(p=0.2),\n",
    "    'linear2': tnn.Linear(512,2),\n",
    "    'softmax': tnn.Softmax(dim=1)\n",
    "})\n",
    "model = NNModel(modules=modules)\n",
    "print(model)"
   ]
  },
  {
   "cell_type": "code",
   "execution_count": 55,
   "id": "36f7903c-94c3-404c-84eb-c7376b8df0a5",
   "metadata": {},
   "outputs": [
    {
     "name": "stdout",
     "output_type": "stream",
     "text": [
      "epoch: 0/601 \t loss:0.691\n",
      "epoch: 30/601 \t loss:0.597\n",
      "epoch: 60/601 \t loss:0.577\n",
      "epoch: 90/601 \t loss:0.574\n",
      "epoch: 120/601 \t loss:0.568\n",
      "epoch: 150/601 \t loss:0.552\n",
      "epoch: 180/601 \t loss:0.545\n",
      "epoch: 210/601 \t loss:0.547\n",
      "epoch: 240/601 \t loss:0.544\n",
      "epoch: 270/601 \t loss:0.547\n",
      "epoch: 300/601 \t loss:0.542\n",
      "epoch: 330/601 \t loss:0.536\n",
      "epoch: 360/601 \t loss:0.528\n",
      "epoch: 390/601 \t loss:0.528\n",
      "epoch: 420/601 \t loss:0.528\n",
      "epoch: 450/601 \t loss:0.521\n",
      "epoch: 480/601 \t loss:0.524\n",
      "epoch: 510/601 \t loss:0.529\n",
      "epoch: 540/601 \t loss:0.524\n",
      "epoch: 570/601 \t loss:0.521\n",
      "epoch: 600/601 \t loss:0.519\n"
     ]
    }
   ],
   "source": [
    "# Training model\n",
    "model, losses = train(model=model, data=dWrap.data, n_epoch=601, print_interval=30)"
   ]
  },
  {
   "cell_type": "code",
   "execution_count": 56,
   "id": "cc05f132-c3ff-4f30-8ddd-26f525aaac27",
   "metadata": {},
   "outputs": [
    {
     "name": "stdout",
     "output_type": "stream",
     "text": [
      "Confusion matrix saved as \"confusion_matrix.png\" at /home/msc2/Pictures\n",
      "              precision    recall  f1-score   support\n",
      "\n",
      "           0       0.82      0.78      0.80       406\n",
      "           1       0.77      0.81      0.79       366\n",
      "\n",
      "    accuracy                           0.80       772\n",
      "   macro avg       0.80      0.80      0.80       772\n",
      "weighted avg       0.80      0.80      0.80       772\n",
      "\n"
     ]
    },
    {
     "data": {
      "image/png": "[encoded data removed]",
      "text/plain": [
       "<Figure size 640x480 with 2 Axes>"
      ]
     },
     "metadata": {},
     "output_type": "display_data"
    }
   ],
   "source": [
    "\n",
    "# Evaluating using confusion matrix\n",
    "ConfusionMatrix(model=model, data=dWrap.data, use_test_mask=True, saveFig=\"\")"
   ]
  }
 ],
 "metadata": {
  "kernelspec": {
   "display_name": "test",
   "language": "python",
   "name": "test"
  },
  "language_info": {
   "codemirror_mode": {
    "name": "ipython",
    "version": 3
   },
   "file_extension": ".py",
   "mimetype": "text/x-python",
   "name": "python",
   "nbconvert_exporter": "python",
   "pygments_lexer": "ipython3",
   "version": "3.8.10"
  }
 },
 "nbformat": 4,
 "nbformat_minor": 5
}
